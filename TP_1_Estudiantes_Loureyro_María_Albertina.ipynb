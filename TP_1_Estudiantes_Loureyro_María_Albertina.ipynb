{
  "nbformat": 4,
  "nbformat_minor": 0,
  "metadata": {
    "colab": {
      "provenance": [],
      "authorship_tag": "ABX9TyNvpUEQaXfl/ShGYXJWAVNw",
      "include_colab_link": true
    },
    "kernelspec": {
      "name": "python3",
      "display_name": "Python 3"
    },
    "language_info": {
      "name": "python"
    }
  },
  "cells": [
    {
      "cell_type": "markdown",
      "metadata": {
        "id": "view-in-github",
        "colab_type": "text"
      },
      "source": [
        "<a href=\"https://colab.research.google.com/github/alberloureyro/CalculoNumerico/blob/main/TP_1_Estudiantes_Loureyro_Mar%C3%ADa_Albertina.ipynb\" target=\"_parent\"><img src=\"https://colab.research.google.com/assets/colab-badge.svg\" alt=\"Open In Colab\"/></a>"
      ]
    },
    {
      "cell_type": "markdown",
      "source": [
        "####TRABAJO PRÁCTICO ESTUDIANTES\n",
        "- Loureyro María Albertina"
      ],
      "metadata": {
        "id": "whUE0uADEkwz"
      }
    },
    {
      "cell_type": "code",
      "execution_count": 5,
      "metadata": {
        "colab": {
          "base_uri": "https://localhost:8080/"
        },
        "id": "ZWR27UAdDoB2",
        "outputId": "8a179723-039e-470f-9f0f-5ccc4a9bd062"
      },
      "outputs": [
        {
          "output_type": "stream",
          "name": "stdout",
          "text": [
            "José :  su notas son:  [85, 90, 78, -10]\n",
            "Carlos :  su notas son:  [88, 72, 94, 102]\n",
            "María :  su notas son:  [95, 85, 87, 'A++']\n",
            "Rosa :  su notas son:  [35, 64, 92, 98]\n",
            "Cecilia :  su notas son:  [59, 89, 76, 100]\n",
            "Lola :  su notas son:  [93, -97, 67, 80]\n",
            "Daniel :  su notas son:  [77, 54, '55', 99]\n",
            "Matias :  su notas son:  ['NN', 'NN', 'NN', 'NN']\n",
            "Francisco :  su notas son:  [100, 67, 74, 88]\n",
            "Micaela :  su notas son:  [94, 73, 80, 444]\n"
          ]
        }
      ],
      "source": [
        "students = [\n",
        "    {\"nombre\": \"José\", \"notas\": [85, 90, 78, -10]},\n",
        "    {\"nombre\": \"Carlos\", \"notas\": [88, 72, 94, 102]},\n",
        "    {\"nombre\": \"María\", \"notas\": [95, 85, 87, \"A++\"]},\n",
        "    {\"nombre\": \"Rosa\", \"notas\": [35, 64, 92, 98]},\n",
        "    {\"nombre\": \"Cecilia\", \"notas\": [59, 89, 76, 100]},\n",
        "    {\"nombre\": \"Lola\", \"notas\": [93, -97, 67, 80]},\n",
        "    {\"nombre\": \"Daniel\", \"notas\": [77, 54, \"55\", 99]},\n",
        "    {\"nombre\": \"Matias\", \"notas\": [\"NN\", \"NN\", \"NN\", \"NN\"]},\n",
        "    {\"nombre\": \"Francisco\", \"notas\": [100, 67, 74, 88]},\n",
        "    {\"nombre\": \"Micaela\", \"notas\": [94, 73, 80, 444]}\n",
        "\n",
        "]\n",
        "\n",
        "for student in students:\n",
        "    nombre = student[\"nombre\"]\n",
        "    notas = student[\"notas\"]\n",
        "    total = 0\n",
        "    count = 0\n",
        "\n",
        "\n",
        "    print(nombre,\":\" ,\" su notas son: \",notas )"
      ]
    },
    {
      "cell_type": "code",
      "source": [
        "for student in students:\n",
        "    notas_validas = []\n",
        "    notas = student[\"notas\"]\n",
        "\n",
        "    for nota in notas:\n",
        "      if type(nota) == int:\n",
        "        if 0 <= nota <= 100:\n",
        "          notas_validas.append(nota)\n",
        "      else :\n",
        "       print(\"La nota\", nota, \"del estudiante\", student['nombre'], \"no es válida.\")\n",
        "\n",
        "    if notas_validas:\n",
        "      promedio = sum(notas_validas) / len(notas_validas)\n",
        "      promedio_redondeado = round(promedio, 2)\n",
        "      print(student['nombre'], \"tiene un promedio de:\", promedio_redondeado)\n",
        "    else:\n",
        "      print(student['nombre'], \"no tiene notas válidas para calcular un promedio.\")\n",
        "    print (\"----------------\")"
      ],
      "metadata": {
        "colab": {
          "base_uri": "https://localhost:8080/"
        },
        "id": "kfKxuWo3DpNW",
        "outputId": "98a8736b-6a58-4308-f82c-5fed1564d463"
      },
      "execution_count": 7,
      "outputs": [
        {
          "output_type": "stream",
          "name": "stdout",
          "text": [
            "José tiene un promedio de: 84.33\n",
            "----------------\n",
            "Carlos tiene un promedio de: 84.67\n",
            "----------------\n",
            "La nota A++ del estudiante María no es válida.\n",
            "María tiene un promedio de: 89.0\n",
            "----------------\n",
            "Rosa tiene un promedio de: 72.25\n",
            "----------------\n",
            "Cecilia tiene un promedio de: 81.0\n",
            "----------------\n",
            "Lola tiene un promedio de: 80.0\n",
            "----------------\n",
            "La nota 55 del estudiante Daniel no es válida.\n",
            "Daniel tiene un promedio de: 76.67\n",
            "----------------\n",
            "La nota NN del estudiante Matias no es válida.\n",
            "La nota NN del estudiante Matias no es válida.\n",
            "La nota NN del estudiante Matias no es válida.\n",
            "La nota NN del estudiante Matias no es válida.\n",
            "Matias no tiene notas válidas para calcular un promedio.\n",
            "----------------\n",
            "Francisco tiene un promedio de: 82.25\n",
            "----------------\n",
            "Micaela tiene un promedio de: 82.33\n",
            "----------------\n"
          ]
        }
      ]
    }
  ]
}